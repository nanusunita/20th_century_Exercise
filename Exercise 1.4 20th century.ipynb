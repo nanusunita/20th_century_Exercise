{
 "cells": [
  {
   "cell_type": "code",
   "execution_count": 32,
   "id": "ac224f0e-858c-4023-910c-125aa7087e36",
   "metadata": {},
   "outputs": [],
   "source": [
    "import pandas as pd\n",
    "import time\n",
    "from selenium import webdriver\n",
    "from webdriver_manager.chrome import ChromeDriverManager\n",
    "from selenium.webdriver.common.by import By\n",
    "from selenium.webdriver.chrome.service import Service\n",
    "from selenium.webdriver.chrome.options import Options\n",
    "import matplotlib.pyplot as plt \n",
    "import os\n",
    "import logging"
   ]
  },
  {
   "cell_type": "code",
   "execution_count": 33,
   "id": "7baa5d5e-10f5-4718-8067-27541695582f",
   "metadata": {},
   "outputs": [],
   "source": [
    "from selenium import webdriver\n",
    "from selenium.webdriver.chrome.service import Service\n",
    "\n",
    "service = Service(executable_path=r'C:\\Users\\BhuwanDhakal\\Sunita\\Projects\\Data visualizations in Python\\Project 1, Building a historical network analysis\\1.4 Accessing web data with data scraping\\chromedriver-win32/chromedriver.exe')\n",
    "options = webdriver.ChromeOptions()\n",
    "driver = webdriver.Chrome(service=service, options=options)"
   ]
  },
  {
   "cell_type": "code",
   "execution_count": 34,
   "id": "82a668a0-d722-48d3-a4cc-300f13c76341",
   "metadata": {},
   "outputs": [],
   "source": [
    "page_url = \"https://en.wikipedia.org/wiki/Key_events_of_the_20th_century\"\n",
    "driver.get(page_url)"
   ]
  },
  {
   "cell_type": "code",
   "execution_count": 35,
   "id": "38e627f7-bd2e-4670-bc59-7a5fe4026bbe",
   "metadata": {},
   "outputs": [],
   "source": [
    "text = driver.find_element(By.XPATH, \"/html/body\").text"
   ]
  },
  {
   "cell_type": "code",
   "execution_count": 36,
   "id": "27fc2a70-835d-47fb-b956-974dddb7f0c7",
   "metadata": {},
   "outputs": [],
   "source": [
    "\n",
    "text = text.encode ('utf-8')\n",
    "\n",
    "with open('Key events of 20th century.txt', 'wb') as f:\n",
    "       f.write(text)"
   ]
  },
  {
   "cell_type": "code",
   "execution_count": null,
   "id": "9260b6a6-e6ed-4f5b-a2de-373d1b15d133",
   "metadata": {},
   "outputs": [],
   "source": []
  }
 ],
 "metadata": {
  "kernelspec": {
   "display_name": "Python [conda env:venv_20th_century]",
   "language": "python",
   "name": "conda-env-venv_20th_century-py"
  },
  "language_info": {
   "codemirror_mode": {
    "name": "ipython",
    "version": 3
   },
   "file_extension": ".py",
   "mimetype": "text/x-python",
   "name": "python",
   "nbconvert_exporter": "python",
   "pygments_lexer": "ipython3",
   "version": "3.12.3"
  }
 },
 "nbformat": 4,
 "nbformat_minor": 5
}
